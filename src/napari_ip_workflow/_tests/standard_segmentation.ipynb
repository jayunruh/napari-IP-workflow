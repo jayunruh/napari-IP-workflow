{
 "cells": [
  {
   "cell_type": "markdown",
   "id": "f5624e4e",
   "metadata": {},
   "source": [
    "# Standard segmentation/measurement\n",
    "Typical steps are import, project (sum or max or combo), backsub.\n",
    "Then blur, thresfrac (max, percentile, avg), filter objects (area/circ), dilate (border)\n",
    "Then measure subtracted and shapes and output table."
   ]
  },
  {
   "cell_type": "code",
   "execution_count": 1,
   "id": "94738703",
   "metadata": {},
   "outputs": [],
   "source": [
    "# This notebook follows a standard segmentation workflow\n",
    "import numpy as np\n",
    "import tifffile\n",
    "import napari\n",
    "import pandas as pd\n",
    "import matplotlib.pyplot as plt\n",
    "import scipy.ndimage as ndi"
   ]
  },
  {
   "cell_type": "code",
   "execution_count": 2,
   "id": "629b9c98",
   "metadata": {},
   "outputs": [],
   "source": [
    "#first load the images, here we have individually saved channels\n",
    "fnames=['003003-1-001001001.tif','003003-1-001001002.tif','003003-1-001001003.tif']\n",
    "img=np.array([tifffile.imread(fnames[i]) for i in range(len(fnames))])"
   ]
  },
  {
   "cell_type": "code",
   "execution_count": 3,
   "id": "87d1b2a7",
   "metadata": {},
   "outputs": [],
   "source": [
    "viewer=napari.view_image(img,channel_axis=0)"
   ]
  },
  {
   "cell_type": "code",
   "execution_count": 4,
   "id": "d41c48b0",
   "metadata": {},
   "outputs": [
    {
     "data": {
      "text/plain": [
       "<matplotlib.image.AxesImage at 0x2188b34f1c8>"
      ]
     },
     "execution_count": 4,
     "metadata": {},
     "output_type": "execute_result"
    },
    {
     "data": {
      "image/png": "[encoded data removed]",
      "text/plain": [
       "<Figure size 432x288 with 1 Axes>"
      ]
     },
     "metadata": {
      "needs_background": "light"
     },
     "output_type": "display_data"
    }
   ],
   "source": [
    "snap=viewer.screenshot()\n",
    "plt.imshow(snap)"
   ]
  },
  {
   "cell_type": "code",
   "execution_count": 5,
   "id": "32182cde",
   "metadata": {},
   "outputs": [],
   "source": [
    "def findBackground(timg,smstd,ballrad,border,measrad):\n",
    "    #now find the background of a multichannel image\n",
    "    #finds the mininum of a boxcar filter over the image excluding the border\n",
    "    #start by gaussian filtering\n",
    "    #note if there is a transmitted light channel it should be removed first\n",
    "    img=timg\n",
    "    if(img.ndim<3):\n",
    "        img=np.array([timg])\n",
    "    nch=img.shape[0]\n",
    "    smoothed=[ndi.gaussian_filter(img[i],sigma=smstd,mode='reflect') for i in range(nch)]\n",
    "    mins=[smoothed[i].min() for i in range(nch)]\n",
    "    print('sm chan mins: '+str(mins))\n",
    "    summed=smoothed[0]-mins[0]\n",
    "    for i in range(1,nch):\n",
    "        summed+=smoothed[i]-mins[i]\n",
    "    minfilt=ndi.uniform_filter(summed,size=2*ballrad,mode='reflect')\n",
    "    minpos=np.argmin(minfilt[border:-border,border:-border])\n",
    "    print('flat min index:'+str(minpos))\n",
    "    width2=img.shape[2]-2*border\n",
    "    miny=int(minpos/width2)\n",
    "    minx=minpos-miny*width2\n",
    "    miny=miny+border\n",
    "    minx=minx+border\n",
    "    #now measure the background in all the channels\n",
    "    backlab=np.zeros(img.shape[1:],dtype=float)\n",
    "    def getCircMask(xc,yc,rad,width,height):\n",
    "        xs,ys=np.meshgrid(np.arange(width),np.arange(height))\n",
    "        return ((xs-minx)**2+(ys-miny)**2)<=(rad**2)\n",
    "        \n",
    "    backlab=getCircMask(minx,miny,measrad,img.shape[2],img.shape[1])\n",
    "    backavg=[img[i][backlab].mean() for i in range(nch)]\n",
    "    return minx,miny,backavg,minfilt,summed"
   ]
  },
  {
   "cell_type": "code",
   "execution_count": 6,
   "id": "ea34e357",
   "metadata": {},
   "outputs": [
    {
     "name": "stdout",
     "output_type": "stream",
     "text": [
      "sm chan mins: [95, 94, 112]\n",
      "flat min index:153000\n",
      "background pos:[200, 425]\n",
      "background measurements:[144.96207018787663, 126.56504785537044, 151.5654023395959]\n"
     ]
    }
   ],
   "source": [
    "minx,miny,backavg,_,_=findBackground(img,3,40,200,30)\n",
    "print('background pos:'+str([minx,miny]))\n",
    "print('background measurements:'+str(backavg))"
   ]
  },
  {
   "cell_type": "code",
   "execution_count": 7,
   "id": "1d61f15f",
   "metadata": {},
   "outputs": [
    {
     "data": {
      "text/plain": [
       "<Points layer 'Points' at 0x2188b470b88>"
      ]
     },
     "execution_count": 7,
     "metadata": {},
     "output_type": "execute_result"
    }
   ],
   "source": [
    "viewer.add_points([[miny,minx]],size=60)"
   ]
  },
  {
   "cell_type": "code",
   "execution_count": 8,
   "id": "65cb7b33",
   "metadata": {},
   "outputs": [],
   "source": [
    "backsub=[img[i]-backavg[i] for i in range(len(img))]"
   ]
  },
  {
   "cell_type": "code",
   "execution_count": 9,
   "id": "d083b1e3",
   "metadata": {},
   "outputs": [],
   "source": [
    "def findNuclei(nucimg,smstd,threshfrac,threshstat='Max',threshpercentile=99.0,minarea=10,maxarea=1e+6):\n",
    "    #takes a nuclear image and thresholds it (fraction of max, percentile, and avg)\n",
    "    stats=['Max','Percentile','Avg']\n",
    "    statfuncs=[np.max,np.percentile,np.mean]\n",
    "    statidx=stats.index(threshstat)\n",
    "    smoothed=ndi.gaussian_filter(nucimg,sigma=smstd,mode='reflect')\n",
    "    if(statidx==0):\n",
    "        statval=smoothed.max()\n",
    "    if(statidx==1):\n",
    "        statval=np.percentile(smoothed,threshpercentile)\n",
    "    if(statidx==2):\n",
    "        statval=smoothed.mean()\n",
    "    threshval=threshfrac*statval\n",
    "    #find the objects\n",
    "    objects,nobj=ndi.label(smoothed>threshval)\n",
    "    #filter out the ones that are too big or too small\n",
    "    areas=ndi.sum(np.ones(objects,shape),objects,range(1,nobj))\n",
    "    filtered=np.where((areas<minarea) | (areas>maxarea))[0]+1\n",
    "    for idx in filtered:\n",
    "        objects[objects==idx]=0.0\n",
    "    #refind the objects\n",
    "    objects,nobj=ndi.label(objects>0.0)\n",
    "    return objects"
   ]
  },
  {
   "cell_type": "code",
   "execution_count": null,
   "id": "b084eb7a",
   "metadata": {},
   "outputs": [],
   "source": []
  }
 ],
 "metadata": {
  "kernelspec": {
   "display_name": "naparienv",
   "language": "python",
   "name": "naparienv"
  },
  "language_info": {
   "codemirror_mode": {
    "name": "ipython",
    "version": 3
   },
   "file_extension": ".py",
   "mimetype": "text/x-python",
   "name": "python",
   "nbconvert_exporter": "python",
   "pygments_lexer": "ipython3",
   "version": "3.8.12"
  }
 },
 "nbformat": 4,
 "nbformat_minor": 5
}
